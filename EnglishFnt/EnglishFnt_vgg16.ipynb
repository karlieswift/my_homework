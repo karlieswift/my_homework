{
 "cells": [
  {
   "cell_type": "markdown",
   "metadata": {},
   "source": [
    "## vgg16迁移学习训练数据EnglishFnt\n",
    "***题目：使用卷积神经元网络CNN，对多种字体的26个大写英文字母进行识别。\n",
    "<br>数据集介绍：</br>\n",
    "<br>1- 数据集来源于Chars74K dataset，本项目选用数据集EnglishFnt中的一部分。Chars74K dataset网址链接 http://www.ee.surrey.ac.uk/CVSSP/demos/chars74k/</br>\n",
    "<br>2- A-Z共26种英文字母，每种字母对应一个文件夹（Sample011对应字母A, Sample012对应字母B,…, Sample036对应字母Z）；</br>\n",
    "<br>3- Sample011到Sample036每个文件夹下相同字母不同字体的图片约1000张，PNG格式</br>***\n"
   ]
  },
  {
   "cell_type": "code",
   "execution_count": 1,
   "metadata": {},
   "outputs": [],
   "source": [
    "import numpy as np\n",
    "import matplotlib.pyplot as plt\n",
    "import seaborn as sns\n",
    "import torch\n",
    "import torch.nn as nn\n",
    "import torchvision\n",
    "from torchsummary import  summary\n",
    "from torchvision.models import vgg16\n",
    "from sklearn.model_selection import train_test_split\n",
    "# import pandas as pd \n",
    "import os \n",
    "\n",
    "device=torch.device('cuda:0' if torch.cuda.is_available() else 'cpu')"
   ]
  },
  {
   "cell_type": "markdown",
   "metadata": {},
   "source": [
    "### 读取数据"
   ]
  },
  {
   "cell_type": "code",
   "execution_count": 2,
   "metadata": {},
   "outputs": [
    {
     "data": {
      "text/plain": [
       "array([[1., 1., 1., ..., 1., 1., 1.],\n",
       "       [1., 1., 1., ..., 1., 1., 1.],\n",
       "       [1., 1., 1., ..., 1., 1., 1.],\n",
       "       ...,\n",
       "       [1., 1., 1., ..., 1., 1., 1.],\n",
       "       [1., 1., 1., ..., 1., 1., 1.],\n",
       "       [1., 1., 1., ..., 1., 1., 1.]], dtype=float32)"
      ]
     },
     "execution_count": 2,
     "metadata": {},
     "output_type": "execute_result"
    }
   ],
   "source": [
    "pic_1=plt.imread('./project2/Sample011/img011-00002.png')\n",
    "pic_1"
   ]
  },
  {
   "cell_type": "code",
   "execution_count": 3,
   "metadata": {},
   "outputs": [
    {
     "data": {
      "text/plain": [
       "<matplotlib.image.AxesImage at 0x19d26f40438>"
      ]
     },
     "execution_count": 3,
     "metadata": {},
     "output_type": "execute_result"
    },
    {
     "data": {
      "image/png": "[encoded data removed]",
      "text/plain": [
       "<Figure size 432x288 with 2 Axes>"
      ]
     },
     "metadata": {
      "needs_background": "light"
     },
     "output_type": "display_data"
    }
   ],
   "source": [
    "pic_2=plt.imread('./project2/Sample012/img012-00001.png')\n",
    "fig,[ax1,ax2]=plt.subplots(1,2)\n",
    "ax1.imshow(pic_1)\n",
    "ax2.imshow(pic_2)"
   ]
  },
  {
   "cell_type": "markdown",
   "metadata": {},
   "source": [
    "### 查看vgg16的模型细节"
   ]
  },
  {
   "cell_type": "code",
   "execution_count": 4,
   "metadata": {},
   "outputs": [],
   "source": [
    "class Net(nn.Module):\n",
    "    def __init__(self):\n",
    "        super().__init__()\n",
    "        self.vgg16=vgg16(pretrained=True)  #第一次需要下载一段时间\n",
    "    def forward(self,input):\n",
    "        output=self.vgg16(input)\n",
    "        return output"
   ]
  },
  {
   "cell_type": "code",
   "execution_count": 5,
   "metadata": {},
   "outputs": [
    {
     "name": "stdout",
     "output_type": "stream",
     "text": [
      "----------------------------------------------------------------\n",
      "        Layer (type)               Output Shape         Param #\n",
      "================================================================\n",
      "            Conv2d-1         [32, 64, 224, 224]           1,792\n",
      "              ReLU-2         [32, 64, 224, 224]               0\n",
      "            Conv2d-3         [32, 64, 224, 224]          36,928\n",
      "              ReLU-4         [32, 64, 224, 224]               0\n",
      "         MaxPool2d-5         [32, 64, 112, 112]               0\n",
      "            Conv2d-6        [32, 128, 112, 112]          73,856\n",
      "              ReLU-7        [32, 128, 112, 112]               0\n",
      "            Conv2d-8        [32, 128, 112, 112]         147,584\n",
      "              ReLU-9        [32, 128, 112, 112]               0\n",
      "        MaxPool2d-10          [32, 128, 56, 56]               0\n",
      "           Conv2d-11          [32, 256, 56, 56]         295,168\n",
      "             ReLU-12          [32, 256, 56, 56]               0\n",
      "           Conv2d-13          [32, 256, 56, 56]         590,080\n",
      "             ReLU-14          [32, 256, 56, 56]               0\n",
      "           Conv2d-15          [32, 256, 56, 56]         590,080\n",
      "             ReLU-16          [32, 256, 56, 56]               0\n",
      "        MaxPool2d-17          [32, 256, 28, 28]               0\n",
      "           Conv2d-18          [32, 512, 28, 28]       1,180,160\n",
      "             ReLU-19          [32, 512, 28, 28]               0\n",
      "           Conv2d-20          [32, 512, 28, 28]       2,359,808\n",
      "             ReLU-21          [32, 512, 28, 28]               0\n",
      "           Conv2d-22          [32, 512, 28, 28]       2,359,808\n",
      "             ReLU-23          [32, 512, 28, 28]               0\n",
      "        MaxPool2d-24          [32, 512, 14, 14]               0\n",
      "           Conv2d-25          [32, 512, 14, 14]       2,359,808\n",
      "             ReLU-26          [32, 512, 14, 14]               0\n",
      "           Conv2d-27          [32, 512, 14, 14]       2,359,808\n",
      "             ReLU-28          [32, 512, 14, 14]               0\n",
      "           Conv2d-29          [32, 512, 14, 14]       2,359,808\n",
      "             ReLU-30          [32, 512, 14, 14]               0\n",
      "        MaxPool2d-31            [32, 512, 7, 7]               0\n",
      "AdaptiveAvgPool2d-32            [32, 512, 7, 7]               0\n",
      "           Linear-33                 [32, 4096]     102,764,544\n",
      "             ReLU-34                 [32, 4096]               0\n",
      "          Dropout-35                 [32, 4096]               0\n",
      "           Linear-36                 [32, 4096]      16,781,312\n",
      "             ReLU-37                 [32, 4096]               0\n",
      "          Dropout-38                 [32, 4096]               0\n",
      "           Linear-39                 [32, 1000]       4,097,000\n",
      "              VGG-40                 [32, 1000]               0\n",
      "================================================================\n",
      "Total params: 138,357,544\n",
      "Trainable params: 138,357,544\n",
      "Non-trainable params: 0\n",
      "----------------------------------------------------------------\n",
      "Input size (MB): 18.38\n",
      "Forward/backward pass size (MB): 7001.24\n",
      "Params size (MB): 527.79\n",
      "Estimated Total Size (MB): 7547.41\n",
      "----------------------------------------------------------------\n"
     ]
    }
   ],
   "source": [
    "model=Net()\n",
    "summary(model=model,input_size=[(3,224,224)],batch_size=32,device='cpu')"
   ]
  },
  {
   "cell_type": "code",
   "execution_count": 6,
   "metadata": {},
   "outputs": [],
   "source": [
    "vgg16=vgg16(pretrained=True)"
   ]
  },
  {
   "cell_type": "markdown",
   "metadata": {},
   "source": [
    "#### 卷积层"
   ]
  },
  {
   "cell_type": "code",
   "execution_count": 11,
   "metadata": {},
   "outputs": [
    {
     "data": {
      "text/plain": [
       "Sequential(\n",
       "  (0): Conv2d(3, 64, kernel_size=(3, 3), stride=(1, 1), padding=(1, 1))\n",
       "  (1): ReLU(inplace=True)\n",
       "  (2): Conv2d(64, 64, kernel_size=(3, 3), stride=(1, 1), padding=(1, 1))\n",
       "  (3): ReLU(inplace=True)\n",
       "  (4): MaxPool2d(kernel_size=2, stride=2, padding=0, dilation=1, ceil_mode=False)\n",
       "  (5): Conv2d(64, 128, kernel_size=(3, 3), stride=(1, 1), padding=(1, 1))\n",
       "  (6): ReLU(inplace=True)\n",
       "  (7): Conv2d(128, 128, kernel_size=(3, 3), stride=(1, 1), padding=(1, 1))\n",
       "  (8): ReLU(inplace=True)\n",
       "  (9): MaxPool2d(kernel_size=2, stride=2, padding=0, dilation=1, ceil_mode=False)\n",
       "  (10): Conv2d(128, 256, kernel_size=(3, 3), stride=(1, 1), padding=(1, 1))\n",
       "  (11): ReLU(inplace=True)\n",
       "  (12): Conv2d(256, 256, kernel_size=(3, 3), stride=(1, 1), padding=(1, 1))\n",
       "  (13): ReLU(inplace=True)\n",
       "  (14): Conv2d(256, 256, kernel_size=(3, 3), stride=(1, 1), padding=(1, 1))\n",
       "  (15): ReLU(inplace=True)\n",
       "  (16): MaxPool2d(kernel_size=2, stride=2, padding=0, dilation=1, ceil_mode=False)\n",
       "  (17): Conv2d(256, 512, kernel_size=(3, 3), stride=(1, 1), padding=(1, 1))\n",
       "  (18): ReLU(inplace=True)\n",
       "  (19): Conv2d(512, 512, kernel_size=(3, 3), stride=(1, 1), padding=(1, 1))\n",
       "  (20): ReLU(inplace=True)\n",
       "  (21): Conv2d(512, 512, kernel_size=(3, 3), stride=(1, 1), padding=(1, 1))\n",
       "  (22): ReLU(inplace=True)\n",
       "  (23): MaxPool2d(kernel_size=2, stride=2, padding=0, dilation=1, ceil_mode=False)\n",
       "  (24): Conv2d(512, 512, kernel_size=(3, 3), stride=(1, 1), padding=(1, 1))\n",
       "  (25): ReLU(inplace=True)\n",
       "  (26): Conv2d(512, 512, kernel_size=(3, 3), stride=(1, 1), padding=(1, 1))\n",
       "  (27): ReLU(inplace=True)\n",
       "  (28): Conv2d(512, 512, kernel_size=(3, 3), stride=(1, 1), padding=(1, 1))\n",
       "  (29): ReLU(inplace=True)\n",
       "  (30): MaxPool2d(kernel_size=2, stride=2, padding=0, dilation=1, ceil_mode=False)\n",
       ")"
      ]
     },
     "execution_count": 11,
     "metadata": {},
     "output_type": "execute_result"
    }
   ],
   "source": [
    "vgg16.features"
   ]
  },
  {
   "cell_type": "markdown",
   "metadata": {},
   "source": [
    "#### 全连接层(也是我们修改的地方)"
   ]
  },
  {
   "cell_type": "code",
   "execution_count": 12,
   "metadata": {},
   "outputs": [
    {
     "data": {
      "text/plain": [
       "Sequential(\n",
       "  (0): Linear(in_features=25088, out_features=4096, bias=True)\n",
       "  (1): ReLU(inplace=True)\n",
       "  (2): Dropout(p=0.5, inplace=False)\n",
       "  (3): Linear(in_features=4096, out_features=4096, bias=True)\n",
       "  (4): ReLU(inplace=True)\n",
       "  (5): Dropout(p=0.5, inplace=False)\n",
       "  (6): Linear(in_features=4096, out_features=1000, bias=True)\n",
       ")"
      ]
     },
     "execution_count": 12,
     "metadata": {},
     "output_type": "execute_result"
    }
   ],
   "source": [
    "vgg16.classifier"
   ]
  },
  {
   "cell_type": "markdown",
   "metadata": {},
   "source": [
    "#### vgg16所有的参数"
   ]
  },
  {
   "cell_type": "code",
   "execution_count": 13,
   "metadata": {},
   "outputs": [
    {
     "name": "stdout",
     "output_type": "stream",
     "text": [
      "1 torch.Size([64, 3, 3, 3])\n",
      "2 torch.Size([64])\n",
      "3 torch.Size([64, 64, 3, 3])\n",
      "4 torch.Size([64])\n",
      "5 torch.Size([128, 64, 3, 3])\n",
      "6 torch.Size([128])\n",
      "7 torch.Size([128, 128, 3, 3])\n",
      "8 torch.Size([128])\n",
      "9 torch.Size([256, 128, 3, 3])\n",
      "10 torch.Size([256])\n",
      "11 torch.Size([256, 256, 3, 3])\n",
      "12 torch.Size([256])\n",
      "13 torch.Size([256, 256, 3, 3])\n",
      "14 torch.Size([256])\n",
      "15 torch.Size([512, 256, 3, 3])\n",
      "16 torch.Size([512])\n",
      "17 torch.Size([512, 512, 3, 3])\n",
      "18 torch.Size([512])\n",
      "19 torch.Size([512, 512, 3, 3])\n",
      "20 torch.Size([512])\n",
      "21 torch.Size([512, 512, 3, 3])\n",
      "22 torch.Size([512])\n",
      "23 torch.Size([512, 512, 3, 3])\n",
      "24 torch.Size([512])\n",
      "25 torch.Size([512, 512, 3, 3])\n",
      "26 torch.Size([512])\n",
      "27 torch.Size([4096, 25088])\n",
      "28 torch.Size([4096])\n",
      "29 torch.Size([4096, 4096])\n",
      "30 torch.Size([4096])\n",
      "31 torch.Size([1000, 4096])\n",
      "32 torch.Size([1000])\n"
     ]
    }
   ],
   "source": [
    "i=0\n",
    "for param in vgg16.parameters():\n",
    "    i=i+1\n",
    "    print(i,param.shape)"
   ]
  },
  {
   "cell_type": "code",
   "execution_count": null,
   "metadata": {},
   "outputs": [],
   "source": []
  },
  {
   "cell_type": "markdown",
   "metadata": {},
   "source": [
    "###### EnglishFnt字母案例 的单通道 vgg16的第一层为Conv2d(3, 64, kernel_size=(3, 3), stride=(1, 1), padding=(1, 1)) 通道为3 这里需要修改"
   ]
  },
  {
   "cell_type": "code",
   "execution_count": 10,
   "metadata": {},
   "outputs": [
    {
     "data": {
      "text/plain": [
       "Conv2d(3, 64, kernel_size=(3, 3), stride=(1, 1), padding=(1, 1))"
      ]
     },
     "execution_count": 10,
     "metadata": {},
     "output_type": "execute_result"
    }
   ],
   "source": [
    "vgg16.features[0]"
   ]
  },
  {
   "cell_type": "code",
   "execution_count": 11,
   "metadata": {},
   "outputs": [
    {
     "data": {
      "text/plain": [
       "<generator object Module.parameters at 0x00000236F2A9ED68>"
      ]
     },
     "execution_count": 11,
     "metadata": {},
     "output_type": "execute_result"
    }
   ],
   "source": [
    "vgg16.features[0].parameters()"
   ]
  },
  {
   "cell_type": "markdown",
   "metadata": {},
   "source": [
    "### 重构vgg16模型"
   ]
  },
  {
   "cell_type": "code",
   "execution_count": 4,
   "metadata": {},
   "outputs": [],
   "source": [
    "class vgg16_EnglishFnt(nn.Module):\n",
    "    def __init__(self):\n",
    "        super().__init__()\n",
    "        self.vgg16 = vgg16(pretrained=True)  # 第一次运行需要下载一段时间\n",
    "        # 构造自己的全连接 来替换vgg16的全连接层\n",
    "        my_classifier = nn.Sequential(\n",
    "            nn.Linear(in_features=25088, out_features=200, bias=True),\n",
    "            nn.ReLU(),\n",
    "            nn.Dropout(0.5),\n",
    "            nn.Linear(in_features=200, out_features=26)\n",
    "        )\n",
    "        # 替换全连接层\n",
    "        self.vgg16.classifier = my_classifier\n",
    "        # EnglishFnt字母案例 的单通道 vgg16的第一层通道为3 这里需要修改为1\n",
    "        self.vgg16.features[0] = nn.Sequential(\n",
    "            nn.Conv2d(1, 64, kernel_size=(3, 3), stride=(1, 1), padding=(1, 1))\n",
    "        )\n",
    "        # 先冻结vgg16卷积层的所有参数\n",
    "        for param in self.vgg16.parameters():\n",
    "            param.requires_grad = False\n",
    "        # 更新卷积层的某几层\n",
    "        for i in [1,2,3]:\n",
    "            for param in self.vgg16.features[i].parameters():\n",
    "                param.requires_grad=True\n",
    "\n",
    "        # 更新全连接层\n",
    "        for param in self.vgg16.classifier.parameters():\n",
    "            param.requires_grad = True\n",
    "\n",
    "    def forward(self, input):\n",
    "        output = self.vgg16(input)\n",
    "        return output\n"
   ]
  },
  {
   "cell_type": "code",
   "execution_count": 5,
   "metadata": {},
   "outputs": [
    {
     "name": "stdout",
     "output_type": "stream",
     "text": [
      "----------------------------------------------------------------\n",
      "        Layer (type)               Output Shape         Param #\n",
      "================================================================\n",
      "            Conv2d-1         [32, 64, 128, 128]             640\n",
      "              ReLU-2         [32, 64, 128, 128]               0\n",
      "            Conv2d-3         [32, 64, 128, 128]          36,928\n",
      "              ReLU-4         [32, 64, 128, 128]               0\n",
      "         MaxPool2d-5           [32, 64, 64, 64]               0\n",
      "            Conv2d-6          [32, 128, 64, 64]          73,856\n",
      "              ReLU-7          [32, 128, 64, 64]               0\n",
      "            Conv2d-8          [32, 128, 64, 64]         147,584\n",
      "              ReLU-9          [32, 128, 64, 64]               0\n",
      "        MaxPool2d-10          [32, 128, 32, 32]               0\n",
      "           Conv2d-11          [32, 256, 32, 32]         295,168\n",
      "             ReLU-12          [32, 256, 32, 32]               0\n",
      "           Conv2d-13          [32, 256, 32, 32]         590,080\n",
      "             ReLU-14          [32, 256, 32, 32]               0\n",
      "           Conv2d-15          [32, 256, 32, 32]         590,080\n",
      "             ReLU-16          [32, 256, 32, 32]               0\n",
      "        MaxPool2d-17          [32, 256, 16, 16]               0\n",
      "           Conv2d-18          [32, 512, 16, 16]       1,180,160\n",
      "             ReLU-19          [32, 512, 16, 16]               0\n",
      "           Conv2d-20          [32, 512, 16, 16]       2,359,808\n",
      "             ReLU-21          [32, 512, 16, 16]               0\n",
      "           Conv2d-22          [32, 512, 16, 16]       2,359,808\n",
      "             ReLU-23          [32, 512, 16, 16]               0\n",
      "        MaxPool2d-24            [32, 512, 8, 8]               0\n",
      "           Conv2d-25            [32, 512, 8, 8]       2,359,808\n",
      "             ReLU-26            [32, 512, 8, 8]               0\n",
      "           Conv2d-27            [32, 512, 8, 8]       2,359,808\n",
      "             ReLU-28            [32, 512, 8, 8]               0\n",
      "           Conv2d-29            [32, 512, 8, 8]       2,359,808\n",
      "             ReLU-30            [32, 512, 8, 8]               0\n",
      "        MaxPool2d-31            [32, 512, 4, 4]               0\n",
      "AdaptiveAvgPool2d-32            [32, 512, 7, 7]               0\n",
      "           Linear-33                  [32, 200]       5,017,800\n",
      "             ReLU-34                  [32, 200]               0\n",
      "          Dropout-35                  [32, 200]               0\n",
      "           Linear-36                   [32, 26]           5,226\n",
      "              VGG-37                   [32, 26]               0\n",
      "================================================================\n",
      "Total params: 19,736,562\n",
      "Trainable params: 5,059,954\n",
      "Non-trainable params: 14,676,608\n",
      "----------------------------------------------------------------\n",
      "Input size (MB): 2.00\n",
      "Forward/backward pass size (MB): 2288.28\n",
      "Params size (MB): 75.29\n",
      "Estimated Total Size (MB): 2365.57\n",
      "----------------------------------------------------------------\n"
     ]
    }
   ],
   "source": [
    "summary(vgg16_EnglishFnt(),input_size=[(1,128,128)],batch_size=32,device='cpu')"
   ]
  },
  {
   "cell_type": "markdown",
   "metadata": {},
   "source": [
    "### 数据集划分"
   ]
  },
  {
   "cell_type": "code",
   "execution_count": 6,
   "metadata": {},
   "outputs": [],
   "source": [
    "path='./project2/'\n",
    "batch_size=16\n",
    "transforms=torchvision.transforms.Compose([\n",
    "    torchvision.transforms.Grayscale(1),  #把通道改为1\n",
    "    torchvision.transforms.ToTensor()\n",
    "])\n",
    "data_set=torchvision.datasets.ImageFolder(path,transform=transforms)\n",
    "# 数据集划分\n",
    "train_data,test_data=train_test_split(data_set,random_state=666,shuffle=True,test_size=0.2)\n",
    "train_data_loader=torch.utils.data.DataLoader(dataset=train_data,batch_size=batch_size,shuffle=True)\n",
    "test_data_loader=torch.utils.data.DataLoader(dataset=test_data,batch_size=batch_size,shuffle=True)"
   ]
  },
  {
   "cell_type": "code",
   "execution_count": 7,
   "metadata": {},
   "outputs": [
    {
     "name": "stdout",
     "output_type": "stream",
     "text": [
      "26416\n",
      "1321\n",
      "331\n"
     ]
    }
   ],
   "source": [
    "print(len(data_set))\n",
    "print(len(train_data_loader))\n",
    "print(len(test_data_loader))"
   ]
  },
  {
   "cell_type": "code",
   "execution_count": null,
   "metadata": {},
   "outputs": [],
   "source": []
  },
  {
   "cell_type": "code",
   "execution_count": 8,
   "metadata": {},
   "outputs": [],
   "source": [
    "def test(data_loader,model):\n",
    "    sum = 0\n",
    "    for index, (input, target) in enumerate(data_loader):\n",
    "        # GPU\n",
    "        input = input.to(device)\n",
    "        target = target.to(device)\n",
    "        output = model(input)\n",
    "        y = torch.max(output, dim=1)[1]\n",
    "        sum += (y == target).sum()\n",
    "    acc = sum/len(data_loader)/batch_size\n",
    "#     print(\"acc:\", acc.item())\n",
    "    return acc.item()"
   ]
  },
  {
   "cell_type": "code",
   "execution_count": 9,
   "metadata": {},
   "outputs": [],
   "source": [
    "model=vgg16_EnglishFnt().to(device)\n",
    "optimizer=torch.optim.Adam(model.parameters(),lr=0.001)\n",
    "crossEntropyLoss=nn.CrossEntropyLoss() \n",
    "#模型加载\n",
    "if os.path.exists('./EnglishFnt_vgg_model/model.pkl'):\n",
    "    model.load_state_dict(torch.load('./EnglishFnt_vgg_model/model.pkl'))\n",
    "    optimizer.load_state_dict(torch.load('./EnglishFnt_vgg_model/optimizer.pkl'))\n",
    "\n",
    "def train(epoch,data_loader):\n",
    "    loss_list=[]\n",
    "    acc_list=[]\n",
    "    for index,(input,target) in enumerate(data_loader):\n",
    "        #GPU\n",
    "        input=input.to(device)\n",
    "        target=target.to(device)\n",
    "        output=model(input)\n",
    "        loss=crossEntropyLoss(output,target)\n",
    "        optimizer.zero_grad()\n",
    "        loss.backward()\n",
    "        optimizer.step()\n",
    "        #模型保存\n",
    "        if index %100==0:\n",
    "            acc=test(test_data_loader,model)\n",
    "            print(\"epoch:{} loss:{:.4f} acc:{:.4f}[{}/{}]\".format(epoch+1,loss.item(),acc,index*batch_size,len(data_set)))\n",
    "            loss_list.append(loss.item())\n",
    "            acc_list.append(acc)\n",
    "\n",
    "    torch.save(model.state_dict(),'./EnglishFnt_vgg_model/model.pkl')\n",
    "    torch.save(optimizer.state_dict(),'./EnglishFnt_vgg_model/optimizer.pkl')\n",
    "    \n",
    "    return loss_list ,acc_list"
   ]
  },
  {
   "cell_type": "code",
   "execution_count": null,
   "metadata": {},
   "outputs": [],
   "source": []
  },
  {
   "cell_type": "markdown",
   "metadata": {},
   "source": [
    "### 训练模型"
   ]
  },
  {
   "cell_type": "code",
   "execution_count": 10,
   "metadata": {},
   "outputs": [
    {
     "name": "stdout",
     "output_type": "stream",
     "text": [
      "epoch:1 loss:3.6869 acc:0.0770[0/26416]\n",
      "epoch:1 loss:0.7578 acc:0.6577[1600/26416]\n",
      "epoch:1 loss:1.0696 acc:0.7764[3200/26416]\n",
      "epoch:1 loss:1.0017 acc:0.8021[4800/26416]\n",
      "epoch:1 loss:0.9106 acc:0.8285[6400/26416]\n",
      "epoch:1 loss:0.5106 acc:0.8308[8000/26416]\n",
      "epoch:1 loss:0.1570 acc:0.8448[9600/26416]\n",
      "epoch:1 loss:0.0860 acc:0.8469[11200/26416]\n",
      "epoch:1 loss:0.4386 acc:0.8393[12800/26416]\n",
      "epoch:1 loss:0.2940 acc:0.8610[14400/26416]\n",
      "epoch:1 loss:0.1209 acc:0.8527[16000/26416]\n",
      "epoch:1 loss:0.2875 acc:0.8661[17600/26416]\n",
      "epoch:1 loss:0.6353 acc:0.8674[19200/26416]\n",
      "epoch:1 loss:0.1130 acc:0.8631[20800/26416]\n",
      "epoch:2 loss:0.5511 acc:0.8650[0/26416]\n",
      "epoch:2 loss:0.0290 acc:0.8646[1600/26416]\n",
      "epoch:2 loss:0.8289 acc:0.8616[3200/26416]\n",
      "epoch:2 loss:1.2761 acc:0.8710[4800/26416]\n",
      "epoch:2 loss:0.4326 acc:0.8690[6400/26416]\n",
      "epoch:2 loss:0.1362 acc:0.8780[8000/26416]\n",
      "epoch:2 loss:0.5508 acc:0.8697[9600/26416]\n",
      "epoch:2 loss:0.1451 acc:0.8733[11200/26416]\n",
      "epoch:2 loss:0.0228 acc:0.8824[12800/26416]\n",
      "epoch:2 loss:0.1264 acc:0.8758[14400/26416]\n",
      "epoch:2 loss:1.7927 acc:0.8758[16000/26416]\n",
      "epoch:2 loss:0.5817 acc:0.8699[17600/26416]\n",
      "epoch:2 loss:0.0950 acc:0.8737[19200/26416]\n",
      "epoch:2 loss:0.1793 acc:0.8843[20800/26416]\n",
      "epoch:3 loss:0.2486 acc:0.8816[0/26416]\n",
      "epoch:3 loss:0.3618 acc:0.8788[1600/26416]\n",
      "epoch:3 loss:0.3341 acc:0.8916[3200/26416]\n",
      "epoch:3 loss:0.2195 acc:0.8905[4800/26416]\n",
      "epoch:3 loss:0.6653 acc:0.9003[6400/26416]\n",
      "epoch:3 loss:0.1056 acc:0.8948[8000/26416]\n",
      "epoch:3 loss:0.3206 acc:0.8950[9600/26416]\n",
      "epoch:3 loss:0.2830 acc:0.8935[11200/26416]\n",
      "epoch:3 loss:0.5898 acc:0.9031[12800/26416]\n",
      "epoch:3 loss:0.0446 acc:0.8986[14400/26416]\n",
      "epoch:3 loss:0.1980 acc:0.8865[16000/26416]\n",
      "epoch:3 loss:0.4424 acc:0.8956[17600/26416]\n",
      "epoch:3 loss:0.3018 acc:0.9014[19200/26416]\n",
      "epoch:3 loss:0.6419 acc:0.8716[20800/26416]\n",
      "Wall time: 1h 4min 50s\n"
     ]
    }
   ],
   "source": [
    "%%time\n",
    "loss_list=[]\n",
    "acc_list=[]\n",
    "for i in range(3):\n",
    "    loss,acc=train(i,train_data_loader)\n",
    "    loss_list.extend(loss)\n",
    "    acc_list.extend(acc)"
   ]
  },
  {
   "cell_type": "code",
   "execution_count": 11,
   "metadata": {},
   "outputs": [
    {
     "data": {
      "text/plain": [
       "[<matplotlib.lines.Line2D at 0x1e380032240>]"
      ]
     },
     "execution_count": 11,
     "metadata": {},
     "output_type": "execute_result"
    },
    {
     "data": {
      "image/png": "[encoded data removed]",
      "text/plain": [
       "<Figure size 432x288 with 1 Axes>"
      ]
     },
     "metadata": {
      "needs_background": "light"
     },
     "output_type": "display_data"
    }
   ],
   "source": [
    "plt.plot(loss_list)"
   ]
  },
  {
   "cell_type": "code",
   "execution_count": 12,
   "metadata": {},
   "outputs": [
    {
     "data": {
      "text/plain": [
       "[<matplotlib.lines.Line2D at 0x1e3801df860>]"
      ]
     },
     "execution_count": 12,
     "metadata": {},
     "output_type": "execute_result"
    },
    {
     "data": {
      "image/png": "[encoded data removed]",
      "text/plain": [
       "<Figure size 432x288 with 1 Axes>"
      ]
     },
     "metadata": {
      "needs_background": "light"
     },
     "output_type": "display_data"
    }
   ],
   "source": [
    "plt.plot(acc_list)"
   ]
  },
  {
   "cell_type": "code",
   "execution_count": 14,
   "metadata": {},
   "outputs": [],
   "source": [
    "def test_all(data_loader):\n",
    "    model=vgg16_EnglishFnt().to(device)\n",
    "    optimizer=torch.optim.Adam(model.parameters(),lr=0.001)\n",
    "    \n",
    "    if os.path.exists('./EnglishFnt_vgg_model/model.pkl'):\n",
    "        model.load_state_dict(torch.load('./EnglishFnt_vgg_model/model.pkl'))\n",
    "        optimizer.load_state_dict(torch.load('./EnglishFnt_vgg_model/optimizer.pkl'))\n",
    "    \n",
    "    sum = 0\n",
    "    for index, (input, target) in enumerate(data_loader):\n",
    "        # GPU\n",
    "        input = input.to(device)\n",
    "        target = target.to(device)\n",
    "        output = model(input)\n",
    "        y = torch.max(output, dim=1)[1]\n",
    "        sum += (y == target).sum()\n",
    "    acc = sum/len(data_loader)/batch_size\n",
    "    print(\"acc:\", acc.item())\n",
    "    return acc.item()"
   ]
  },
  {
   "cell_type": "code",
   "execution_count": 15,
   "metadata": {},
   "outputs": [
    {
     "name": "stdout",
     "output_type": "stream",
     "text": [
      "acc: 0.8906722068786621\n"
     ]
    },
    {
     "data": {
      "text/plain": [
       "0.8906722068786621"
      ]
     },
     "execution_count": 15,
     "metadata": {},
     "output_type": "execute_result"
    }
   ],
   "source": [
    "test_all(test_data_loader)"
   ]
  },
  {
   "cell_type": "code",
   "execution_count": null,
   "metadata": {},
   "outputs": [],
   "source": [
    "model = vgg16_EnglishFnt().to(device)\n",
    "optimizer = torch.optim.Adam(model.parameters(), lr=0.001)\n",
    "crossEntropyLoss = nn.CrossEntropyLoss()\n",
    "acc_list=test_all(train_data_loader) "
   ]
  },
  {
   "cell_type": "code",
   "execution_count": null,
   "metadata": {},
   "outputs": [],
   "source": []
  }
 ],
 "metadata": {
  "kernelspec": {
   "display_name": "Python 3",
   "language": "python",
   "name": "python3"
  },
  "language_info": {
   "codemirror_mode": {
    "name": "ipython",
    "version": 3
   },
   "file_extension": ".py",
   "mimetype": "text/x-python",
   "name": "python",
   "nbconvert_exporter": "python",
   "pygments_lexer": "ipython3",
   "version": "3.7.0"
  },
  "toc": {
   "base_numbering": 1,
   "nav_menu": {},
   "number_sections": true,
   "sideBar": true,
   "skip_h1_title": false,
   "title_cell": "Table of Contents",
   "title_sidebar": "Contents",
   "toc_cell": false,
   "toc_position": {
    "height": "calc(100% - 180px)",
    "left": "10px",
    "top": "150px",
    "width": "208.996px"
   },
   "toc_section_display": true,
   "toc_window_display": true
  }
 },
 "nbformat": 4,
 "nbformat_minor": 2
}
